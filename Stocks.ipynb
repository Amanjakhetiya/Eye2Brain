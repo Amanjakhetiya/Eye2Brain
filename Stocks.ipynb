{
 "cells": [
  {
   "cell_type": "code",
   "execution_count": 1,
   "metadata": {},
   "outputs": [],
   "source": [
    "import pandas as pd\n",
    "import numpy as np  \n",
    "import matplotlib.pyplot as plt\n",
    "%matplotlib inline"
   ]
  },
  {
   "cell_type": "code",
   "execution_count": 2,
   "metadata": {},
   "outputs": [
    {
     "name": "stderr",
     "output_type": "stream",
     "text": [
      "/Library/Frameworks/Python.framework/Versions/3.6/lib/python3.6/site-packages/h5py/__init__.py:36: FutureWarning: Conversion of the second argument of issubdtype from `float` to `np.floating` is deprecated. In future, it will be treated as `np.float64 == np.dtype(float).type`.\n",
      "  from ._conv import register_converters as _register_converters\n",
      "Using TensorFlow backend.\n"
     ]
    }
   ],
   "source": [
    "from keras.models import Sequential  \n",
    "from keras.layers import Dense, LSTM, Dropout "
   ]
  },
  {
   "cell_type": "code",
   "execution_count": 3,
   "metadata": {},
   "outputs": [],
   "source": [
    "# plot open vs date (training)\n",
    "url = 'https://www.alphavantage.co/query?function=TIME_SERIES_DAILY_ADJUSTED&symbol=MSFT&outputsize=full&apikey=WIGVQ9248GZG5TU3&datatype=csv'"
   ]
  },
  {
   "cell_type": "code",
   "execution_count": 4,
   "metadata": {},
   "outputs": [
    {
     "data": {
      "text/plain": [
       "(5033, 9)"
      ]
     },
     "execution_count": 4,
     "metadata": {},
     "output_type": "execute_result"
    }
   ],
   "source": [
    "full = pd.read_csv(url)\n",
    "full.shape"
   ]
  },
  {
   "cell_type": "code",
   "execution_count": 19,
   "metadata": {},
   "outputs": [
    {
     "data": {
      "text/html": [
       "<div>\n",
       "<style scoped>\n",
       "    .dataframe tbody tr th:only-of-type {\n",
       "        vertical-align: middle;\n",
       "    }\n",
       "\n",
       "    .dataframe tbody tr th {\n",
       "        vertical-align: top;\n",
       "    }\n",
       "\n",
       "    .dataframe thead th {\n",
       "        text-align: right;\n",
       "    }\n",
       "</style>\n",
       "<table border=\"1\" class=\"dataframe\">\n",
       "  <thead>\n",
       "    <tr style=\"text-align: right;\">\n",
       "      <th></th>\n",
       "      <th>timestamp</th>\n",
       "      <th>open</th>\n",
       "      <th>high</th>\n",
       "      <th>low</th>\n",
       "      <th>close</th>\n",
       "      <th>adjusted_close</th>\n",
       "      <th>volume</th>\n",
       "      <th>dividend_amount</th>\n",
       "      <th>split_coefficient</th>\n",
       "    </tr>\n",
       "  </thead>\n",
       "  <tbody>\n",
       "    <tr>\n",
       "      <th>0</th>\n",
       "      <td>2019-11-21</td>\n",
       "      <td>149.40</td>\n",
       "      <td>149.80</td>\n",
       "      <td>148.51</td>\n",
       "      <td>149.48</td>\n",
       "      <td>149.4800</td>\n",
       "      <td>16125077</td>\n",
       "      <td>0.00</td>\n",
       "      <td>1.0</td>\n",
       "    </tr>\n",
       "    <tr>\n",
       "      <th>1</th>\n",
       "      <td>2019-11-20</td>\n",
       "      <td>150.31</td>\n",
       "      <td>150.84</td>\n",
       "      <td>148.46</td>\n",
       "      <td>149.62</td>\n",
       "      <td>149.6200</td>\n",
       "      <td>25696800</td>\n",
       "      <td>0.51</td>\n",
       "      <td>1.0</td>\n",
       "    </tr>\n",
       "    <tr>\n",
       "      <th>2</th>\n",
       "      <td>2019-11-19</td>\n",
       "      <td>150.88</td>\n",
       "      <td>151.33</td>\n",
       "      <td>150.20</td>\n",
       "      <td>150.39</td>\n",
       "      <td>149.8800</td>\n",
       "      <td>23935700</td>\n",
       "      <td>0.00</td>\n",
       "      <td>1.0</td>\n",
       "    </tr>\n",
       "    <tr>\n",
       "      <th>3</th>\n",
       "      <td>2019-11-18</td>\n",
       "      <td>150.07</td>\n",
       "      <td>150.55</td>\n",
       "      <td>148.98</td>\n",
       "      <td>150.34</td>\n",
       "      <td>149.8302</td>\n",
       "      <td>21534000</td>\n",
       "      <td>0.00</td>\n",
       "      <td>1.0</td>\n",
       "    </tr>\n",
       "    <tr>\n",
       "      <th>4</th>\n",
       "      <td>2019-11-15</td>\n",
       "      <td>148.93</td>\n",
       "      <td>149.99</td>\n",
       "      <td>148.27</td>\n",
       "      <td>149.97</td>\n",
       "      <td>149.4614</td>\n",
       "      <td>23485700</td>\n",
       "      <td>0.00</td>\n",
       "      <td>1.0</td>\n",
       "    </tr>\n",
       "  </tbody>\n",
       "</table>\n",
       "</div>"
      ],
      "text/plain": [
       "    timestamp    open    high     low   close  adjusted_close    volume  \\\n",
       "0  2019-11-21  149.40  149.80  148.51  149.48        149.4800  16125077   \n",
       "1  2019-11-20  150.31  150.84  148.46  149.62        149.6200  25696800   \n",
       "2  2019-11-19  150.88  151.33  150.20  150.39        149.8800  23935700   \n",
       "3  2019-11-18  150.07  150.55  148.98  150.34        149.8302  21534000   \n",
       "4  2019-11-15  148.93  149.99  148.27  149.97        149.4614  23485700   \n",
       "\n",
       "   dividend_amount  split_coefficient  \n",
       "0             0.00                1.0  \n",
       "1             0.51                1.0  \n",
       "2             0.00                1.0  \n",
       "3             0.00                1.0  \n",
       "4             0.00                1.0  "
      ]
     },
     "execution_count": 19,
     "metadata": {},
     "output_type": "execute_result"
    }
   ],
   "source": [
    "full.head()"
   ]
  },
  {
   "cell_type": "code",
   "execution_count": 5,
   "metadata": {},
   "outputs": [],
   "source": [
    "train = full.head(int(full.shape[0]*0.7))\n",
    "test = full.tail(int(full.shape[0]*0.3))"
   ]
  },
  {
   "cell_type": "code",
   "execution_count": 6,
   "metadata": {},
   "outputs": [
    {
     "data": {
      "image/png": "[encoded data removed]",
      "text/plain": [
       "<Figure size 432x288 with 2 Axes>"
      ]
     },
     "metadata": {
      "needs_background": "light"
     },
     "output_type": "display_data"
    }
   ],
   "source": [
    "fg1 = plt.subplot2grid((1,6),(0,0), rowspan=1, colspan=5)\n",
    "fg2 = plt.subplot2grid((1,6),(0,5), rowspan=1, colspan=1)\n",
    "\n",
    "fg1.plot(train['open'].values)\n",
    "fg1.set_xlim([0,train.shape[0]])\n",
    "fg1.set_ylim([0,150])\n",
    "\n",
    "fg2.plot(test['open'].values,color='red')\n",
    "fg2.set_xlim([0,test.shape[0]])\n",
    "fg2.set_ylim([0,150])\n",
    "\n",
    "plt.show()"
   ]
  },
  {
   "cell_type": "code",
   "execution_count": null,
   "metadata": {},
   "outputs": [],
   "source": [
    "# training_complete = train\n",
    "# training_processed = pd.DataFrame(training_complete.iloc[:, 0:2].values,columns=['Date','Open'])\n",
    "# training_processed = training_processed.set_index('Date')\n",
    "# training_processed.head()"
   ]
  },
  {
   "cell_type": "code",
   "execution_count": 7,
   "metadata": {},
   "outputs": [
    {
     "name": "stdout",
     "output_type": "stream",
     "text": [
      "(3523, 1) (1509, 1)\n"
     ]
    }
   ],
   "source": [
    "train_processed = train.iloc[:, 1:2].values\n",
    "test_processed = test.iloc[:, 1:2].values\n",
    "print(train_processed.shape,test_processed.shape)"
   ]
  },
  {
   "cell_type": "code",
   "execution_count": 8,
   "metadata": {},
   "outputs": [],
   "source": [
    "from sklearn.preprocessing import MinMaxScaler\n",
    "scaler = MinMaxScaler(feature_range = (0, 1))\n",
    "train_scaled = scaler.fit_transform(train_processed)\n",
    "test_scaled = scaler.fit_transform(test_processed)"
   ]
  },
  {
   "cell_type": "code",
   "execution_count": 9,
   "metadata": {
    "scrolled": false
   },
   "outputs": [
    {
     "name": "stdout",
     "output_type": "stream",
     "text": [
      "Train\n",
      " [[0.98909198]\n",
      " [0.99579894]\n",
      " [1.        ]\n",
      " ...\n",
      " [0.09279186]\n",
      " [0.09286557]\n",
      " [0.09375   ]] \n",
      "---------------\n",
      "Test\n",
      "[[0.05474711]\n",
      " [0.05526832]\n",
      " [0.05245382]\n",
      " ...\n",
      " [0.69575324]\n",
      " [0.69249051]\n",
      " [0.69639953]]\n"
     ]
    }
   ],
   "source": [
    "print(\"Train\\n\",train_scaled,\"\\n---------------\\nTest\")\n",
    "print(test_scaled)"
   ]
  },
  {
   "cell_type": "code",
   "execution_count": 10,
   "metadata": {},
   "outputs": [],
   "source": [
    "features_set = []  \n",
    "labels = []\n",
    "for i in range(60, train_scaled.shape[0]):  \n",
    "    features_set.append(train_scaled[i-60:i,0])\n",
    "    labels.append(train_scaled[i,0])\n",
    "\n",
    "features_set, labels = np.array(features_set), np.array(labels)  \n",
    "\n",
    "features_set = np.reshape(features_set, (features_set.shape[0], features_set.shape[1], 1))  "
   ]
  },
  {
   "cell_type": "code",
   "execution_count": 11,
   "metadata": {
    "scrolled": false
   },
   "outputs": [
    {
     "name": "stdout",
     "output_type": "stream",
     "text": [
      "WARNING:tensorflow:From /Library/Frameworks/Python.framework/Versions/3.6/lib/python3.6/site-packages/tensorflow/python/framework/op_def_library.py:263: colocate_with (from tensorflow.python.framework.ops) is deprecated and will be removed in a future version.\n",
      "Instructions for updating:\n",
      "Colocations handled automatically by placer.\n",
      "WARNING:tensorflow:From /Library/Frameworks/Python.framework/Versions/3.6/lib/python3.6/site-packages/keras/backend/tensorflow_backend.py:1188: calling reduce_sum_v1 (from tensorflow.python.ops.math_ops) with keep_dims is deprecated and will be removed in a future version.\n",
      "Instructions for updating:\n",
      "keep_dims is deprecated, use keepdims instead\n",
      "WARNING:tensorflow:From /Library/Frameworks/Python.framework/Versions/3.6/lib/python3.6/site-packages/keras/backend/tensorflow_backend.py:2888: calling dropout (from tensorflow.python.ops.nn_ops) with keep_prob is deprecated and will be removed in a future version.\n",
      "Instructions for updating:\n",
      "Please use `rate` instead of `keep_prob`. Rate should be set to `rate = 1 - keep_prob`.\n",
      "_________________________________________________________________\n",
      "Layer (type)                 Output Shape              Param #   \n",
      "=================================================================\n",
      "lstm_1 (LSTM)                (None, 60, 50)            10400     \n",
      "_________________________________________________________________\n",
      "dropout_1 (Dropout)          (None, 60, 50)            0         \n",
      "_________________________________________________________________\n",
      "lstm_2 (LSTM)                (None, 60, 50)            20200     \n",
      "_________________________________________________________________\n",
      "dropout_2 (Dropout)          (None, 60, 50)            0         \n",
      "_________________________________________________________________\n",
      "lstm_3 (LSTM)                (None, 60, 50)            20200     \n",
      "_________________________________________________________________\n",
      "dropout_3 (Dropout)          (None, 60, 50)            0         \n",
      "_________________________________________________________________\n",
      "lstm_4 (LSTM)                (None, 50)                20200     \n",
      "_________________________________________________________________\n",
      "dropout_4 (Dropout)          (None, 50)                0         \n",
      "_________________________________________________________________\n",
      "dense_1 (Dense)              (None, 1)                 51        \n",
      "=================================================================\n",
      "Total params: 71,051\n",
      "Trainable params: 71,051\n",
      "Non-trainable params: 0\n",
      "_________________________________________________________________\n"
     ]
    }
   ],
   "source": [
    "model = Sequential()\n",
    "\n",
    "model.add(LSTM(units=50, return_sequences=True, input_shape=(features_set.shape[1], 1)))  \n",
    "model.add(Dropout(0.2))  \n",
    "model.add(LSTM(units=50, return_sequences=True))  \n",
    "model.add(Dropout(0.2))\n",
    "\n",
    "model.add(LSTM(units=50, return_sequences=True))  \n",
    "model.add(Dropout(0.2))\n",
    "\n",
    "model.add(LSTM(units=50))  \n",
    "model.add(Dropout(0.2))  \n",
    "\n",
    "model.add(Dense(units = 1)) \n",
    "model.compile(optimizer = 'adam', loss = 'mean_squared_error')\n",
    "model.summary()"
   ]
  },
  {
   "cell_type": "code",
   "execution_count": 13,
   "metadata": {
    "scrolled": false
   },
   "outputs": [
    {
     "name": "stdout",
     "output_type": "stream",
     "text": [
      "WARNING:tensorflow:From /Library/Frameworks/Python.framework/Versions/3.6/lib/python3.6/site-packages/tensorflow/python/ops/math_ops.py:3066: to_int32 (from tensorflow.python.ops.math_ops) is deprecated and will be removed in a future version.\n",
      "Instructions for updating:\n",
      "Use tf.cast instead.\n",
      "Epoch 1/10\n",
      "3463/3463 [==============================] - 34s - loss: 0.0072    \n",
      "Epoch 2/10\n",
      "3463/3463 [==============================] - 30s - loss: 0.0013    \n",
      "Epoch 3/10\n",
      "3463/3463 [==============================] - 30s - loss: 0.0011    \n",
      "Epoch 4/10\n",
      "3463/3463 [==============================] - 30s - loss: 0.0012    \n",
      "Epoch 5/10\n",
      "3463/3463 [==============================] - 31s - loss: 0.0010    \n",
      "Epoch 6/10\n",
      "3463/3463 [==============================] - 31s - loss: 8.6237e-04    \n",
      "Epoch 7/10\n",
      "3463/3463 [==============================] - 31s - loss: 8.4481e-04    \n",
      "Epoch 8/10\n",
      "3463/3463 [==============================] - 29s - loss: 8.7625e-04    \n",
      "Epoch 9/10\n",
      "3463/3463 [==============================] - 29s - loss: 9.7055e-04    \n",
      "Epoch 10/10\n",
      "3463/3463 [==============================] - 29s - loss: 8.5701e-04    \n"
     ]
    },
    {
     "data": {
      "text/plain": [
       "<keras.callbacks.History at 0x12be3e710>"
      ]
     },
     "execution_count": 13,
     "metadata": {},
     "output_type": "execute_result"
    }
   ],
   "source": [
    "model.fit(features_set, labels, epochs = 10, batch_size = 32) "
   ]
  },
  {
   "cell_type": "code",
   "execution_count": 14,
   "metadata": {},
   "outputs": [],
   "source": [
    "from keras.models import load_model\n",
    "\n",
    "model.save('Django app/outputs/saved_models/stocks.h5')"
   ]
  },
  {
   "cell_type": "code",
   "execution_count": 15,
   "metadata": {},
   "outputs": [],
   "source": [
    "model = load_model('Django app/outputs/saved_models/stocks.h5')\n",
    "\n",
    "test_features = []  \n",
    "for i in range(60, test_scaled.shape[0]):  \n",
    "    test_features.append(test_scaled[i-60:i, 0])\n",
    "\n",
    "test_features = np.array(test_features)\n",
    "test_features = np.reshape(test_features, (test_features.shape[0], test_features.shape[1], 1))  "
   ]
  },
  {
   "cell_type": "code",
   "execution_count": 16,
   "metadata": {
    "scrolled": false
   },
   "outputs": [
    {
     "name": "stdout",
     "output_type": "stream",
     "text": [
      "Test\n",
      " [[0.05474711]\n",
      " [0.05526832]\n",
      " [0.05245382]\n",
      " ...\n",
      " [0.69575324]\n",
      " [0.69249051]\n",
      " [0.69639953]] \n",
      "---------------\n",
      "Predict\n",
      "[[0.04957371]\n",
      " [0.05040638]\n",
      " [0.05115656]\n",
      " ...\n",
      " [0.76043063]\n",
      " [0.74962103]\n",
      " [0.7394188 ]]\n"
     ]
    }
   ],
   "source": [
    "predictions = model.predict(test_features)  \n",
    "print(\"Test\\n\",test_scaled,\"\\n---------------\\nPredict\")\n",
    "print(predictions)"
   ]
  },
  {
   "cell_type": "code",
   "execution_count": 17,
   "metadata": {},
   "outputs": [
    {
     "data": {
      "text/plain": [
       "array([[27.573706],\n",
       "       [27.653585],\n",
       "       [27.725552],\n",
       "       ...,\n",
       "       [95.76763 ],\n",
       "       [94.730644],\n",
       "       [93.75192 ]], dtype=float32)"
      ]
     },
     "execution_count": 17,
     "metadata": {},
     "output_type": "execute_result"
    }
   ],
   "source": [
    "scaler.inverse_transform(predictions) "
   ]
  },
  {
   "cell_type": "code",
   "execution_count": 18,
   "metadata": {
    "scrolled": false
   },
   "outputs": [
    {
     "data": {
      "image/png": "[encoded data removed]",
      "text/plain": [
       "<Figure size 720x432 with 1 Axes>"
      ]
     },
     "metadata": {
      "needs_background": "light"
     },
     "output_type": "display_data"
    }
   ],
   "source": [
    "plt.figure(figsize=(10,6))  \n",
    "plt.plot(test_scaled, color='blue', label='Actual Stock Price')  \n",
    "plt.plot(predictions, color='red', label='Predicted Stock Price')  \n",
    "plt.title('Stock Price Prediction')  \n",
    "plt.xlabel('Date')  \n",
    "plt.ylabel('Stock Price')  \n",
    "plt.legend()  \n",
    "plt.show()"
   ]
  },
  {
   "cell_type": "code",
   "execution_count": 31,
   "metadata": {},
   "outputs": [
    {
     "data": {
      "text/plain": [
       "array([[0.04957372]], dtype=float32)"
      ]
     },
     "execution_count": 31,
     "metadata": {},
     "output_type": "execute_result"
    }
   ],
   "source": [
    "model.predict(np.array([test_features[0]]))"
   ]
  }
 ],
 "metadata": {
  "kernelspec": {
   "display_name": "Python 3",
   "language": "python",
   "name": "python3"
  },
  "language_info": {
   "codemirror_mode": {
    "name": "ipython",
    "version": 3
   },
   "file_extension": ".py",
   "mimetype": "text/x-python",
   "name": "python",
   "nbconvert_exporter": "python",
   "pygments_lexer": "ipython3",
   "version": "3.6.4"
  }
 },
 "nbformat": 4,
 "nbformat_minor": 2
}
