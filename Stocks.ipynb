{
 "cells": [
  {
   "cell_type": "code",
   "execution_count": 1,
   "metadata": {},
   "outputs": [],
   "source": [
    "import pandas as pd\n",
    "import numpy as np  \n",
    "import matplotlib.pyplot as plt\n",
    "%matplotlib inline"
   ]
  },
  {
   "cell_type": "code",
   "execution_count": 2,
   "metadata": {},
   "outputs": [
    {
     "name": "stderr",
     "output_type": "stream",
     "text": [
      "/Library/Frameworks/Python.framework/Versions/3.6/lib/python3.6/site-packages/h5py/__init__.py:36: FutureWarning: Conversion of the second argument of issubdtype from `float` to `np.floating` is deprecated. In future, it will be treated as `np.float64 == np.dtype(float).type`.\n",
      "  from ._conv import register_converters as _register_converters\n",
      "Using TensorFlow backend.\n"
     ]
    }
   ],
   "source": [
    "from keras.models import Sequential  \n",
    "from keras.layers import Dense, LSTM, Dropout "
   ]
  },
  {
   "cell_type": "code",
   "execution_count": 3,
   "metadata": {},
   "outputs": [],
   "source": [
    "# plot open vs date (training)\n",
    "url = 'https://www.alphavantage.co/query?function=TIME_SERIES_DAILY_ADJUSTED&symbol=MSFT&outputsize=full&apikey=WIGVQ9248GZG5TU3&datatype=csv'"
   ]
  },
  {
   "cell_type": "code",
   "execution_count": 4,
   "metadata": {},
   "outputs": [
    {
     "data": {
      "text/plain": [
       "(5033, 9)"
      ]
     },
     "execution_count": 4,
     "metadata": {},
     "output_type": "execute_result"
    }
   ],
   "source": [
    "full = pd.read_csv(url)\n",
    "full.head()\n",
    "full.shape"
   ]
  },
  {
   "cell_type": "code",
   "execution_count": 5,
   "metadata": {},
   "outputs": [],
   "source": [
    "train = full.head(int(full.shape[0]*0.7))\n",
    "test = full.tail(int(full.shape[0]*0.3))"
   ]
  },
  {
   "cell_type": "code",
   "execution_count": 6,
   "metadata": {},
   "outputs": [
    {
     "data": {
      "image/png": "[encoded data removed]",
      "text/plain": [
       "<Figure size 432x288 with 2 Axes>"
      ]
     },
     "metadata": {
      "needs_background": "light"
     },
     "output_type": "display_data"
    }
   ],
   "source": [
    "fg1 = plt.subplot2grid((1,6),(0,0), rowspan=1, colspan=5)\n",
    "fg2 = plt.subplot2grid((1,6),(0,5), rowspan=1, colspan=1)\n",
    "\n",
    "fg1.plot(train['open'].values)\n",
    "fg1.set_xlim([0,train.shape[0]])\n",
    "fg1.set_ylim([0,150])\n",
    "\n",
    "fg2.plot(test['open'].values,color='red')\n",
    "fg2.set_xlim([0,test.shape[0]])\n",
    "fg2.set_ylim([0,150])\n",
    "\n",
    "plt.show()"
   ]
  },
  {
   "cell_type": "code",
   "execution_count": 7,
   "metadata": {},
   "outputs": [],
   "source": [
    "# training_complete = train\n",
    "# training_processed = pd.DataFrame(training_complete.iloc[:, 0:2].values,columns=['Date','Open'])\n",
    "# training_processed = training_processed.set_index('Date')\n",
    "# training_processed.head()"
   ]
  },
  {
   "cell_type": "code",
   "execution_count": 8,
   "metadata": {},
   "outputs": [
    {
     "name": "stdout",
     "output_type": "stream",
     "text": [
      "(3523, 1) (1509, 1)\n"
     ]
    }
   ],
   "source": [
    "train_processed = train.iloc[:, 1:2].values\n",
    "test_processed = test.iloc[:, 1:2].values\n",
    "print(train_processed.shape,test_processed.shape)"
   ]
  },
  {
   "cell_type": "code",
   "execution_count": 9,
   "metadata": {},
   "outputs": [],
   "source": [
    "from sklearn.preprocessing import MinMaxScaler\n",
    "scaler = MinMaxScaler(feature_range = (0, 1))\n",
    "train_scaled = scaler.fit_transform(train_processed)\n",
    "test_scaled = scaler.fit_transform(test_processed)"
   ]
  },
  {
   "cell_type": "code",
   "execution_count": 21,
   "metadata": {
    "scrolled": false
   },
   "outputs": [
    {
     "name": "stdout",
     "output_type": "stream",
     "text": [
      "Train\n",
      " [[0.98907363]\n",
      " [0.97616785]\n",
      " [0.96801267]\n",
      " ...\n",
      " [0.07505938]\n",
      " [0.07529691]\n",
      " [0.07212985]] \n",
      "---------------\n",
      "Test\n",
      "[[0.01763749]\n",
      " [0.01930534]\n",
      " [0.02034566]\n",
      " ...\n",
      " [0.7094296 ]\n",
      " [0.72115665]\n",
      " [0.74200475]]\n"
     ]
    },
    {
     "data": {
      "text/plain": [
       "0.9699129057798892"
      ]
     },
     "execution_count": 21,
     "metadata": {},
     "output_type": "execute_result"
    }
   ],
   "source": [
    "print(\"Train\\n\",train_scaled,\"\\n---------------\\nTest\")\n",
    "print(test_scaled)"
   ]
  },
  {
   "cell_type": "code",
   "execution_count": 22,
   "metadata": {},
   "outputs": [],
   "source": [
    "features_set = []  \n",
    "labels = []\n",
    "for i in range(60, train_scaled.shape[0]):  \n",
    "    features_set.append(train_scaled[i-60:i,0])\n",
    "    labels.append(train_scaled[i,0])\n",
    "\n",
    "features_set, labels = np.array(features_set), np.array(labels)  \n",
    "\n",
    "features_set = np.reshape(features_set, (features_set.shape[0], features_set.shape[1], 1))  "
   ]
  },
  {
   "cell_type": "code",
   "execution_count": 23,
   "metadata": {},
   "outputs": [
    {
     "name": "stdout",
     "output_type": "stream",
     "text": [
      "WARNING:tensorflow:From /Library/Frameworks/Python.framework/Versions/3.6/lib/python3.6/site-packages/tensorflow/python/framework/op_def_library.py:263: colocate_with (from tensorflow.python.framework.ops) is deprecated and will be removed in a future version.\n",
      "Instructions for updating:\n",
      "Colocations handled automatically by placer.\n",
      "WARNING:tensorflow:From /Library/Frameworks/Python.framework/Versions/3.6/lib/python3.6/site-packages/keras/backend/tensorflow_backend.py:1188: calling reduce_sum_v1 (from tensorflow.python.ops.math_ops) with keep_dims is deprecated and will be removed in a future version.\n",
      "Instructions for updating:\n",
      "keep_dims is deprecated, use keepdims instead\n",
      "WARNING:tensorflow:From /Library/Frameworks/Python.framework/Versions/3.6/lib/python3.6/site-packages/keras/backend/tensorflow_backend.py:2888: calling dropout (from tensorflow.python.ops.nn_ops) with keep_prob is deprecated and will be removed in a future version.\n",
      "Instructions for updating:\n",
      "Please use `rate` instead of `keep_prob`. Rate should be set to `rate = 1 - keep_prob`.\n"
     ]
    }
   ],
   "source": [
    "model = Sequential()\n",
    "\n",
    "model.add(LSTM(units=50, return_sequences=True, input_shape=(features_set.shape[1], 1)))  \n",
    "model.add(Dropout(0.2))  \n",
    "model.add(LSTM(units=50, return_sequences=True))  \n",
    "model.add(Dropout(0.2))\n",
    "\n",
    "model.add(LSTM(units=50, return_sequences=True))  \n",
    "model.add(Dropout(0.2))\n",
    "\n",
    "model.add(LSTM(units=50))  \n",
    "model.add(Dropout(0.2))  \n",
    "\n",
    "model.add(Dense(units = 1))  "
   ]
  },
  {
   "cell_type": "code",
   "execution_count": 25,
   "metadata": {
    "scrolled": false
   },
   "outputs": [
    {
     "name": "stdout",
     "output_type": "stream",
     "text": [
      "Epoch 1/10\n",
      "3463/3463 [==============================] - 34s - loss: 0.0014    \n",
      "Epoch 2/10\n",
      "3463/3463 [==============================] - 31s - loss: 0.0014    \n",
      "Epoch 3/10\n",
      "3463/3463 [==============================] - 30s - loss: 0.0010    \n",
      "Epoch 4/10\n",
      "3463/3463 [==============================] - 29s - loss: 9.1125e-04    \n",
      "Epoch 5/10\n",
      "3463/3463 [==============================] - 29s - loss: 8.9705e-04    \n",
      "Epoch 6/10\n",
      "3463/3463 [==============================] - 30s - loss: 8.3812e-04    \n",
      "Epoch 7/10\n",
      "3463/3463 [==============================] - 30s - loss: 7.9128e-04    \n",
      "Epoch 8/10\n",
      "3463/3463 [==============================] - 30s - loss: 9.9928e-04    \n",
      "Epoch 9/10\n",
      "3463/3463 [==============================] - 29s - loss: 7.6210e-04    \n",
      "Epoch 10/10\n",
      "3463/3463 [==============================] - 30s - loss: 7.6084e-04    \n",
      "_________________________________________________________________\n",
      "Layer (type)                 Output Shape              Param #   \n",
      "=================================================================\n",
      "lstm_1 (LSTM)                (None, 60, 50)            10400     \n",
      "_________________________________________________________________\n",
      "dropout_1 (Dropout)          (None, 60, 50)            0         \n",
      "_________________________________________________________________\n",
      "lstm_2 (LSTM)                (None, 60, 50)            20200     \n",
      "_________________________________________________________________\n",
      "dropout_2 (Dropout)          (None, 60, 50)            0         \n",
      "_________________________________________________________________\n",
      "lstm_3 (LSTM)                (None, 60, 50)            20200     \n",
      "_________________________________________________________________\n",
      "dropout_3 (Dropout)          (None, 60, 50)            0         \n",
      "_________________________________________________________________\n",
      "lstm_4 (LSTM)                (None, 50)                20200     \n",
      "_________________________________________________________________\n",
      "dropout_4 (Dropout)          (None, 50)                0         \n",
      "_________________________________________________________________\n",
      "dense_1 (Dense)              (None, 1)                 51        \n",
      "=================================================================\n",
      "Total params: 71,051\n",
      "Trainable params: 71,051\n",
      "Non-trainable params: 0\n",
      "_________________________________________________________________\n"
     ]
    }
   ],
   "source": [
    "model.compile(optimizer = 'adam', loss = 'mean_squared_error')  \n",
    "model.fit(features_set, labels, epochs = 10, batch_size = 32) \n",
    "model.summary()"
   ]
  },
  {
   "cell_type": "code",
   "execution_count": 27,
   "metadata": {},
   "outputs": [],
   "source": [
    "test_features = []  \n",
    "for i in range(60, test_scaled.shape[0]):  \n",
    "    test_features.append(test_scaled[i-60:i, 0])\n",
    "\n",
    "test_features = np.array(test_features)\n",
    "test_features = np.reshape(test_features, (test_features.shape[0], test_features.shape[1], 1))  "
   ]
  },
  {
   "cell_type": "code",
   "execution_count": 31,
   "metadata": {},
   "outputs": [
    {
     "name": "stdout",
     "output_type": "stream",
     "text": [
      "Test\n",
      " [[0.01763749]\n",
      " [0.01930534]\n",
      " [0.02034566]\n",
      " ...\n",
      " [0.7094296 ]\n",
      " [0.72115665]\n",
      " [0.74200475]] \n",
      "---------------\n",
      "Predict\n",
      "[[0.05299412]\n",
      " [0.05234506]\n",
      " [0.05180435]\n",
      " ...\n",
      " [0.7219447 ]\n",
      " [0.72105503]\n",
      " [0.7200476 ]]\n"
     ]
    }
   ],
   "source": [
    "predictions = model.predict(test_features)  \n",
    "print(\"Test\\n\",test_scaled,\"\\n---------------\\nPredict\")\n",
    "print(predictions)"
   ]
  },
  {
   "cell_type": "code",
   "execution_count": 32,
   "metadata": {},
   "outputs": [
    {
     "data": {
      "text/plain": [
       "array([[27.901833],\n",
       "       [27.839565],\n",
       "       [27.787695],\n",
       "       ...,\n",
       "       [92.0756  ],\n",
       "       [91.99025 ],\n",
       "       [91.89361 ]], dtype=float32)"
      ]
     },
     "execution_count": 32,
     "metadata": {},
     "output_type": "execute_result"
    }
   ],
   "source": [
    "scaler.inverse_transform(predictions) "
   ]
  },
  {
   "cell_type": "code",
   "execution_count": 33,
   "metadata": {
    "scrolled": false
   },
   "outputs": [
    {
     "data": {
      "image/png": "[encoded data removed]",
      "text/plain": [
       "<Figure size 720x432 with 1 Axes>"
      ]
     },
     "metadata": {
      "needs_background": "light"
     },
     "output_type": "display_data"
    }
   ],
   "source": [
    "plt.figure(figsize=(10,6))  \n",
    "plt.plot(test_scaled, color='blue', label='Actual Stock Price')  \n",
    "plt.plot(predictions, color='red', label='Predicted Stock Price')  \n",
    "plt.title('Stock Price Prediction')  \n",
    "plt.xlabel('Date')  \n",
    "plt.ylabel('Stock Price')  \n",
    "plt.legend()  \n",
    "plt.show()"
   ]
  }
 ],
 "metadata": {
  "kernelspec": {
   "display_name": "Python 3",
   "language": "python",
   "name": "python3"
  },
  "language_info": {
   "codemirror_mode": {
    "name": "ipython",
    "version": 3
   },
   "file_extension": ".py",
   "mimetype": "text/x-python",
   "name": "python",
   "nbconvert_exporter": "python",
   "pygments_lexer": "ipython3",
   "version": "3.6.4"
  }
 },
 "nbformat": 4,
 "nbformat_minor": 2
}
