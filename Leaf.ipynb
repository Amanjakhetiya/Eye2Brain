{
 "cells": [
  {
   "cell_type": "code",
   "execution_count": 1,
   "metadata": {},
   "outputs": [],
   "source": [
    "import numpy as np\n",
    "import pandas as pd\n",
    "import matplotlib.pyplot as plt\n",
    "%matplotlib inline"
   ]
  },
  {
   "cell_type": "code",
   "execution_count": 2,
   "metadata": {},
   "outputs": [
    {
     "name": "stderr",
     "output_type": "stream",
     "text": [
      "/Library/Frameworks/Python.framework/Versions/3.6/lib/python3.6/site-packages/h5py/__init__.py:36: FutureWarning: Conversion of the second argument of issubdtype from `float` to `np.floating` is deprecated. In future, it will be treated as `np.float64 == np.dtype(float).type`.\n",
      "  from ._conv import register_converters as _register_converters\n",
      "Using TensorFlow backend.\n"
     ]
    }
   ],
   "source": [
    "from keras.models import Sequential\n",
    "from keras.layers import Conv2D, AveragePooling2D, Dense, Dropout, Flatten"
   ]
  },
  {
   "cell_type": "code",
   "execution_count": 3,
   "metadata": {},
   "outputs": [],
   "source": [
    "def process_training_data():\n",
    "    data = pd.read_csv('leafsnap-dataset-images.txt', delimiter='\\t')\n",
    "    return data   \n"
   ]
  },
  {
   "cell_type": "code",
   "execution_count": 4,
   "metadata": {},
   "outputs": [],
   "source": [
    "data = pd.DataFrame(process_training_data())\n",
    "data.head()\n",
    "classes = len(data['species'].unique())"
   ]
  },
  {
   "cell_type": "code",
   "execution_count": 5,
   "metadata": {},
   "outputs": [
    {
     "data": {
      "text/html": [
       "<div>\n",
       "<style scoped>\n",
       "    .dataframe tbody tr th:only-of-type {\n",
       "        vertical-align: middle;\n",
       "    }\n",
       "\n",
       "    .dataframe tbody tr th {\n",
       "        vertical-align: top;\n",
       "    }\n",
       "\n",
       "    .dataframe thead th {\n",
       "        text-align: right;\n",
       "    }\n",
       "</style>\n",
       "<table border=\"1\" class=\"dataframe\">\n",
       "  <thead>\n",
       "    <tr style=\"text-align: right;\">\n",
       "      <th></th>\n",
       "      <th>file_id</th>\n",
       "      <th>segmented_path</th>\n",
       "      <th>species</th>\n",
       "    </tr>\n",
       "  </thead>\n",
       "  <tbody>\n",
       "    <tr>\n",
       "      <th>0</th>\n",
       "      <td>55497</td>\n",
       "      <td>dataset/segmented/lab/abies_concolor/ny1157-01...</td>\n",
       "      <td>Abies concolor</td>\n",
       "    </tr>\n",
       "    <tr>\n",
       "      <th>1</th>\n",
       "      <td>55498</td>\n",
       "      <td>dataset/segmented/lab/abies_concolor/ny1157-01...</td>\n",
       "      <td>Abies concolor</td>\n",
       "    </tr>\n",
       "    <tr>\n",
       "      <th>2</th>\n",
       "      <td>55499</td>\n",
       "      <td>dataset/segmented/lab/abies_concolor/ny1157-01...</td>\n",
       "      <td>Abies concolor</td>\n",
       "    </tr>\n",
       "    <tr>\n",
       "      <th>3</th>\n",
       "      <td>55500</td>\n",
       "      <td>dataset/segmented/lab/abies_concolor/ny1157-01...</td>\n",
       "      <td>Abies concolor</td>\n",
       "    </tr>\n",
       "    <tr>\n",
       "      <th>4</th>\n",
       "      <td>55501</td>\n",
       "      <td>dataset/segmented/lab/abies_concolor/ny1157-02...</td>\n",
       "      <td>Abies concolor</td>\n",
       "    </tr>\n",
       "  </tbody>\n",
       "</table>\n",
       "</div>"
      ],
      "text/plain": [
       "   file_id                                     segmented_path         species\n",
       "0    55497  dataset/segmented/lab/abies_concolor/ny1157-01...  Abies concolor\n",
       "1    55498  dataset/segmented/lab/abies_concolor/ny1157-01...  Abies concolor\n",
       "2    55499  dataset/segmented/lab/abies_concolor/ny1157-01...  Abies concolor\n",
       "3    55500  dataset/segmented/lab/abies_concolor/ny1157-01...  Abies concolor\n",
       "4    55501  dataset/segmented/lab/abies_concolor/ny1157-02...  Abies concolor"
      ]
     },
     "execution_count": 5,
     "metadata": {},
     "output_type": "execute_result"
    }
   ],
   "source": [
    "data = data.drop(['image_path','source'],axis=1)\n",
    "data.head()"
   ]
  },
  {
   "cell_type": "code",
   "execution_count": 6,
   "metadata": {},
   "outputs": [
    {
     "name": "stdout",
     "output_type": "stream",
     "text": [
      "17819    dataset/segmented/lab/quercus_alba/pi2317-06-3...\n",
      "6554     dataset/segmented/lab/cornus_florida/wb8003-04...\n",
      "24847    dataset/segmented/field/chionanthus_virginicus...\n",
      "6044     dataset/segmented/lab/chamaecyparis_pisifera/n...\n",
      "3805     dataset/segmented/lab/broussonettia_papyrifera...\n",
      "Name: segmented_path, dtype: object\n",
      "17819                Quercus alba\n",
      "6554               Cornus florida\n",
      "24847      Chionanthus virginicus\n",
      "6044       Chamaecyparis pisifera\n",
      "3805     Broussonettia papyrifera\n",
      "Name: species, dtype: object\n"
     ]
    }
   ],
   "source": [
    "from sklearn.model_selection import train_test_split\n",
    "from sklearn.utils import shuffle\n",
    "\n",
    "data = shuffle(data)\n",
    "train_X, test_X, train_y, test_y = train_test_split(data['segmented_path'], data['species'], test_size = 0.2, random_state = 0)\n",
    "\n",
    "print(train_X.head())\n",
    "print(train_y.head())"
   ]
  },
  {
   "cell_type": "code",
   "execution_count": 7,
   "metadata": {},
   "outputs": [],
   "source": [
    "import glob, cv2\n",
    "\n",
    "training_images = []\n",
    "for img in train_X:\n",
    "    leaf = cv2.resize(cv2.imread(img), (100, 100))\n",
    "    training_images.append(leaf)\n",
    "\n",
    "testing_images = []\n",
    "for img in test_X:\n",
    "    leaf = cv2.resize(cv2.imread(img), (100, 100))\n",
    "    testing_images.append(leaf)\n"
   ]
  },
  {
   "cell_type": "code",
   "execution_count": 8,
   "metadata": {},
   "outputs": [
    {
     "data": {
      "text/plain": [
       "<matplotlib.image.AxesImage at 0x16e81c8d0>"
      ]
     },
     "execution_count": 8,
     "metadata": {},
     "output_type": "execute_result"
    },
    {
     "data": {
      "image/png": "[encoded data removed]",
      "text/plain": [
       "<Figure size 432x288 with 1 Axes>"
      ]
     },
     "metadata": {
      "needs_background": "light"
     },
     "output_type": "display_data"
    }
   ],
   "source": [
    "import random\n",
    "\n",
    "leaf = random.choice(training_images)\n",
    "\n",
    "plt.imshow(leaf)"
   ]
  },
  {
   "cell_type": "code",
   "execution_count": 30,
   "metadata": {},
   "outputs": [
    {
     "name": "stdout",
     "output_type": "stream",
     "text": [
      "WARNING:tensorflow:From /Library/Frameworks/Python.framework/Versions/3.6/lib/python3.6/site-packages/keras/backend/tensorflow_backend.py:1154: calling reduce_max_v1 (from tensorflow.python.ops.math_ops) with keep_dims is deprecated and will be removed in a future version.\n",
      "Instructions for updating:\n",
      "keep_dims is deprecated, use keepdims instead\n",
      "_________________________________________________________________\n",
      "Layer (type)                 Output Shape              Param #   \n",
      "=================================================================\n",
      "conv2d_13 (Conv2D)           (None, 98, 98, 64)        1792      \n",
      "_________________________________________________________________\n",
      "conv2d_14 (Conv2D)           (None, 96, 96, 32)        18464     \n",
      "_________________________________________________________________\n",
      "average_pooling2d_9 (Average (None, 48, 48, 32)        0         \n",
      "_________________________________________________________________\n",
      "conv2d_15 (Conv2D)           (None, 46, 46, 32)        9248      \n",
      "_________________________________________________________________\n",
      "average_pooling2d_10 (Averag (None, 23, 23, 32)        0         \n",
      "_________________________________________________________________\n",
      "flatten_5 (Flatten)          (None, 16928)             0         \n",
      "_________________________________________________________________\n",
      "dense_5 (Dense)              (None, 185)               3131865   \n",
      "=================================================================\n",
      "Total params: 3,161,369\n",
      "Trainable params: 3,161,369\n",
      "Non-trainable params: 0\n",
      "_________________________________________________________________\n"
     ]
    }
   ],
   "source": [
    "model = Sequential()\n",
    "\n",
    "model.add(Conv2D(64,kernel_size=3,activation='relu',input_shape=(100,100,3)))\n",
    "model.add(Conv2D(32,kernel_size=3,activation='relu'))\n",
    "model.add(AveragePooling2D())\n",
    "\n",
    "model.add(Conv2D(32,kernel_size=3,activation='relu'))\n",
    "model.add(AveragePooling2D())\n",
    "\n",
    "model.add(Flatten())\n",
    "model.add(Dense(classes,input_shape=(1,),activation='softmax'))\n",
    "\n",
    "model.compile(optimizer='adam',loss='sparse_categorical_crossentropy',metrics=['accuracy'])\n",
    "model.summary()\n"
   ]
  },
  {
   "cell_type": "code",
   "execution_count": 14,
   "metadata": {},
   "outputs": [
    {
     "data": {
      "text/plain": [
       "(24692, 100, 100, 3)"
      ]
     },
     "execution_count": 14,
     "metadata": {},
     "output_type": "execute_result"
    }
   ],
   "source": [
    "training_images = np.array(training_images)\n",
    "testing_images = np.array(testing_images)\n",
    "training_images.shape"
   ]
  },
  {
   "cell_type": "code",
   "execution_count": 15,
   "metadata": {},
   "outputs": [],
   "source": [
    "from sklearn.preprocessing import LabelEncoder\n",
    "\n",
    "encoder = LabelEncoder()\n",
    "train_y = encoder.fit_transform(train_y)\n",
    "test_y = encoder.fit_transform(test_y)"
   ]
  },
  {
   "cell_type": "code",
   "execution_count": 27,
   "metadata": {},
   "outputs": [
    {
     "data": {
      "text/plain": [
       "array([ 35, 103,  76, ..., 157, 158,  64])"
      ]
     },
     "execution_count": 27,
     "metadata": {},
     "output_type": "execute_result"
    }
   ],
   "source": [
    "test_y"
   ]
  },
  {
   "cell_type": "code",
   "execution_count": 31,
   "metadata": {},
   "outputs": [
    {
     "name": "stdout",
     "output_type": "stream",
     "text": [
      "Train on 24692 samples, validate on 6174 samples\n",
      "Epoch 1/3\n",
      "15424/24692 [=================>............] - ETA: 528s - loss: 4.3452 - acc: 0.1341"
     ]
    },
    {
     "ename": "KeyboardInterrupt",
     "evalue": "",
     "output_type": "error",
     "traceback": [
      "\u001b[0;31m---------------------------------------------------------------------------\u001b[0m"
     ]
    }
   ],
   "source": [
    "model.fit(training_images, train_y, validation_data=(testing_images, test_y),epochs=3)"
   ]
  },
  {
   "cell_type": "code",
   "execution_count": 33,
   "metadata": {},
   "outputs": [
    {
     "name": "stdout",
     "output_type": "stream",
     "text": [
      "6174/6174 [==============================] - 127s   \n"
     ]
    },
    {
     "data": {
      "text/plain": [
       "[3.806915161638226, 0.1977648202475893]"
      ]
     },
     "execution_count": 33,
     "metadata": {},
     "output_type": "execute_result"
    }
   ],
   "source": [
    "model.evaluate(testing_images,test_y)"
   ]
  }
 ],
 "metadata": {
  "kernelspec": {
   "display_name": "Python 3",
   "language": "python",
   "name": "python3"
  },
  "language_info": {
   "codemirror_mode": {
    "name": "ipython",
    "version": 3
   },
   "file_extension": ".py",
   "mimetype": "text/x-python",
   "name": "python",
   "nbconvert_exporter": "python",
   "pygments_lexer": "ipython3",
   "version": "3.6.4"
  }
 },
 "nbformat": 4,
 "nbformat_minor": 2
}
