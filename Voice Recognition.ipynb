{
 "cells": [
  {
   "cell_type": "code",
   "execution_count": 1,
   "metadata": {},
   "outputs": [],
   "source": [
    "import soundfile as sf # flac file\n",
    "import pandas as pd\n",
    "import numpy as np"
   ]
  },
  {
   "cell_type": "code",
   "execution_count": 2,
   "metadata": {},
   "outputs": [],
   "source": [
    "df = []\n",
    "with open('./LibriSpeech/SPEAKERS.TXT') as f:\n",
    "    for line in f:\n",
    "        if line[0]!=';':\n",
    "            df.append(list(map(str.strip, line.split('|'))))\n"
   ]
  },
  {
   "cell_type": "code",
   "execution_count": 3,
   "metadata": {},
   "outputs": [
    {
     "data": {
      "text/html": [
       "<div>\n",
       "<style scoped>\n",
       "    .dataframe tbody tr th:only-of-type {\n",
       "        vertical-align: middle;\n",
       "    }\n",
       "\n",
       "    .dataframe tbody tr th {\n",
       "        vertical-align: top;\n",
       "    }\n",
       "\n",
       "    .dataframe thead th {\n",
       "        text-align: right;\n",
       "    }\n",
       "</style>\n",
       "<table border=\"1\" class=\"dataframe\">\n",
       "  <thead>\n",
       "    <tr style=\"text-align: right;\">\n",
       "      <th></th>\n",
       "      <th>id</th>\n",
       "      <th>sex</th>\n",
       "      <th>subset</th>\n",
       "      <th>minutes</th>\n",
       "      <th>name</th>\n",
       "    </tr>\n",
       "  </thead>\n",
       "  <tbody>\n",
       "    <tr>\n",
       "      <th>33</th>\n",
       "      <td>61</td>\n",
       "      <td>M</td>\n",
       "      <td>test-clean</td>\n",
       "      <td>8.08</td>\n",
       "      <td>Paul-Gabriel Wiener</td>\n",
       "    </tr>\n",
       "    <tr>\n",
       "      <th>46</th>\n",
       "      <td>84</td>\n",
       "      <td>F</td>\n",
       "      <td>dev-clean</td>\n",
       "      <td>8.02</td>\n",
       "      <td>Christie Nowak</td>\n",
       "    </tr>\n",
       "    <tr>\n",
       "      <th>70</th>\n",
       "      <td>121</td>\n",
       "      <td>F</td>\n",
       "      <td>test-clean</td>\n",
       "      <td>8.01</td>\n",
       "      <td>Nikolle Doolin</td>\n",
       "    </tr>\n",
       "    <tr>\n",
       "      <th>93</th>\n",
       "      <td>174</td>\n",
       "      <td>M</td>\n",
       "      <td>dev-clean</td>\n",
       "      <td>8.04</td>\n",
       "      <td>Peter Eastman</td>\n",
       "    </tr>\n",
       "    <tr>\n",
       "      <th>125</th>\n",
       "      <td>237</td>\n",
       "      <td>F</td>\n",
       "      <td>test-clean</td>\n",
       "      <td>8.02</td>\n",
       "      <td>rachelellen</td>\n",
       "    </tr>\n",
       "  </tbody>\n",
       "</table>\n",
       "</div>"
      ],
      "text/plain": [
       "      id sex      subset minutes                 name\n",
       "33    61   M  test-clean    8.08  Paul-Gabriel Wiener\n",
       "46    84   F   dev-clean    8.02       Christie Nowak\n",
       "70   121   F  test-clean    8.01       Nikolle Doolin\n",
       "93   174   M   dev-clean    8.04        Peter Eastman\n",
       "125  237   F  test-clean    8.02          rachelellen"
      ]
     },
     "execution_count": 3,
     "metadata": {},
     "output_type": "execute_result"
    }
   ],
   "source": [
    "import csv\n",
    "data = pd.DataFrame(df)\n",
    "data = data.drop([5,6],axis=1)\n",
    "data.columns = ['id','sex','subset','minutes','name']\n",
    "data = data[(data['subset']=='test-clean') | (data['subset']=='dev-clean')]\n",
    "data.head()"
   ]
  },
  {
   "cell_type": "code",
   "execution_count": 4,
   "metadata": {},
   "outputs": [
    {
     "name": "stderr",
     "output_type": "stream",
     "text": [
      "/Library/Frameworks/Python.framework/Versions/3.6/lib/python3.6/site-packages/h5py/__init__.py:36: FutureWarning: Conversion of the second argument of issubdtype from `float` to `np.floating` is deprecated. In future, it will be treated as `np.float64 == np.dtype(float).type`.\n",
      "  from ._conv import register_converters as _register_converters\n",
      "Using TensorFlow backend.\n"
     ]
    }
   ],
   "source": [
    "from keras.models import Sequential\n",
    "from keras.layers import Dense\n",
    "from keras.utils import to_categorical"
   ]
  },
  {
   "cell_type": "code",
   "execution_count": 11,
   "metadata": {},
   "outputs": [
    {
     "data": {
      "image/png": "[encoded data removed]",
      "text/plain": [
       "<Figure size 432x288 with 1 Axes>"
      ]
     },
     "metadata": {
      "needs_background": "light"
     },
     "output_type": "display_data"
    }
   ],
   "source": [
    "path = './LibriSpeech/dev-clean/84/121123/84-121123-0000.flac'\n",
    "\n",
    "data, samplerate = sf.read(path) \n",
    "dataset = [data, data]\n",
    "\n",
    "y_train = to_categorical([0,1], num_classes=2)\n",
    "x_train = np.array(dataset)\n",
    "import matplotlib.pyplot as plt\n",
    "plt.plot(data)\n",
    "plt.show()"
   ]
  },
  {
   "cell_type": "code",
   "execution_count": 6,
   "metadata": {},
   "outputs": [
    {
     "name": "stdout",
     "output_type": "stream",
     "text": [
      "WARNING:tensorflow:From /Library/Frameworks/Python.framework/Versions/3.6/lib/python3.6/site-packages/tensorflow/python/framework/op_def_library.py:263: colocate_with (from tensorflow.python.framework.ops) is deprecated and will be removed in a future version.\n",
      "Instructions for updating:\n",
      "Colocations handled automatically by placer.\n",
      "WARNING:tensorflow:From /Library/Frameworks/Python.framework/Versions/3.6/lib/python3.6/site-packages/keras/backend/tensorflow_backend.py:2755: calling reduce_sum_v1 (from tensorflow.python.ops.math_ops) with keep_dims is deprecated and will be removed in a future version.\n",
      "Instructions for updating:\n",
      "keep_dims is deprecated, use keepdims instead\n",
      "WARNING:tensorflow:From /Library/Frameworks/Python.framework/Versions/3.6/lib/python3.6/site-packages/tensorflow/python/ops/math_ops.py:3066: to_int32 (from tensorflow.python.ops.math_ops) is deprecated and will be removed in a future version.\n",
      "Instructions for updating:\n",
      "Use tf.cast instead.\n",
      "Epoch 1/10\n",
      "2/2 [==============================] - 0s - loss: 0.6940 - acc: 0.5000\n",
      "Epoch 2/10\n",
      "2/2 [==============================] - 0s - loss: 4.1663 - acc: 0.5000\n",
      "Epoch 3/10\n",
      "2/2 [==============================] - 0s - loss: 0.7044 - acc: 0.5000\n",
      "Epoch 4/10\n",
      "2/2 [==============================] - 0s - loss: 0.6931 - acc: 0.5000\n",
      "Epoch 5/10\n",
      "2/2 [==============================] - 0s - loss: 0.6931 - acc: 0.5000\n",
      "Epoch 6/10\n",
      "2/2 [==============================] - 0s - loss: 0.6931 - acc: 0.5000\n",
      "Epoch 7/10\n",
      "2/2 [==============================] - 0s - loss: 0.6931 - acc: 0.5000\n",
      "Epoch 8/10\n",
      "2/2 [==============================] - 0s - loss: 0.6931 - acc: 0.5000\n",
      "Epoch 9/10\n",
      "2/2 [==============================] - 0s - loss: 0.6931 - acc: 0.5000\n",
      "Epoch 10/10\n",
      "2/2 [==============================] - 0s - loss: 0.6931 - acc: 0.5000\n"
     ]
    },
    {
     "data": {
      "text/plain": [
       "<keras.callbacks.History at 0x12e415eb8>"
      ]
     },
     "execution_count": 6,
     "metadata": {},
     "output_type": "execute_result"
    }
   ],
   "source": [
    "model = Sequential()                                                        \n",
    "model.add(Dense(32, activation='relu', input_shape=x_train[0].shape))       \n",
    "model.add(Dense(2, activation='softmax'))                                   \n",
    "model.compile(optimizer='rmsprop', loss='categorical_crossentropy', metrics=['accuracy'])\n",
    "model.fit(x_train, y_train, epochs=10, batch_size=32) "
   ]
  },
  {
   "cell_type": "code",
   "execution_count": null,
   "metadata": {},
   "outputs": [],
   "source": []
  }
 ],
 "metadata": {
  "kernelspec": {
   "display_name": "Python 3",
   "language": "python",
   "name": "python3"
  },
  "language_info": {
   "codemirror_mode": {
    "name": "ipython",
    "version": 3
   },
   "file_extension": ".py",
   "mimetype": "text/x-python",
   "name": "python",
   "nbconvert_exporter": "python",
   "pygments_lexer": "ipython3",
   "version": "3.6.4"
  }
 },
 "nbformat": 4,
 "nbformat_minor": 2
}
