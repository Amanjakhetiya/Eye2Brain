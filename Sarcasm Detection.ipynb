{
 "cells": [
  {
   "cell_type": "code",
   "execution_count": 1,
   "metadata": {},
   "outputs": [],
   "source": [
    "import matplotlib.pyplot as plt\n",
    "%matplotlib inline\n",
    "import numpy as np\n",
    "import pandas as pd"
   ]
  },
  {
   "cell_type": "code",
   "execution_count": 2,
   "metadata": {},
   "outputs": [
    {
     "data": {
      "text/html": [
       "<div>\n",
       "<style scoped>\n",
       "    .dataframe tbody tr th:only-of-type {\n",
       "        vertical-align: middle;\n",
       "    }\n",
       "\n",
       "    .dataframe tbody tr th {\n",
       "        vertical-align: top;\n",
       "    }\n",
       "\n",
       "    .dataframe thead th {\n",
       "        text-align: right;\n",
       "    }\n",
       "</style>\n",
       "<table border=\"1\" class=\"dataframe\">\n",
       "  <thead>\n",
       "    <tr style=\"text-align: right;\">\n",
       "      <th></th>\n",
       "      <th>id</th>\n",
       "      <th>class</th>\n",
       "      <th>tweet</th>\n",
       "    </tr>\n",
       "  </thead>\n",
       "  <tbody>\n",
       "    <tr>\n",
       "      <th>0</th>\n",
       "      <td>2</td>\n",
       "      <td>0</td>\n",
       "      <td>b'ok time to start rolling the banners and som...</td>\n",
       "    </tr>\n",
       "    <tr>\n",
       "      <th>1</th>\n",
       "      <td>3</td>\n",
       "      <td>0</td>\n",
       "      <td>b\"fancis moves into a different plane at age 3...</td>\n",
       "    </tr>\n",
       "    <tr>\n",
       "      <th>2</th>\n",
       "      <td>4</td>\n",
       "      <td>0</td>\n",
       "      <td>b'Elmer  via @comiXology Out now digital Frenc...</td>\n",
       "    </tr>\n",
       "    <tr>\n",
       "      <th>3</th>\n",
       "      <td>5</td>\n",
       "      <td>0</td>\n",
       "      <td>b'[needrestart]  Thomas Liske - Release versio...</td>\n",
       "    </tr>\n",
       "    <tr>\n",
       "      <th>4</th>\n",
       "      <td>6</td>\n",
       "      <td>0</td>\n",
       "      <td>b'Webinar with Landatel for Spanish customers ...</td>\n",
       "    </tr>\n",
       "  </tbody>\n",
       "</table>\n",
       "</div>"
      ],
      "text/plain": [
       "   id  class                                              tweet\n",
       "0   2      0  b'ok time to start rolling the banners and som...\n",
       "1   3      0  b\"fancis moves into a different plane at age 3...\n",
       "2   4      0  b'Elmer  via @comiXology Out now digital Frenc...\n",
       "3   5      0  b'[needrestart]  Thomas Liske - Release versio...\n",
       "4   6      0  b'Webinar with Landatel for Spanish customers ..."
      ]
     },
     "execution_count": 2,
     "metadata": {},
     "output_type": "execute_result"
    }
   ],
   "source": [
    "path = './data/dataset.csv'\n",
    "df = pd.read_csv(path)\n",
    "df.columns = ['id','class','tweet']\n",
    "df.head()"
   ]
  },
  {
   "cell_type": "code",
   "execution_count": 3,
   "metadata": {},
   "outputs": [],
   "source": [
    "from sklearn.svm import LinearSVC\n",
    "from sklearn.naive_bayes import GaussianNB\n",
    "from sklearn.linear_model import LogisticRegression\n",
    "from sklearn.ensemble import RandomForestClassifier\n",
    "\n",
    "from sklearn.model_selection import cross_val_score\n",
    "from sklearn.metrics import confusion_matrix"
   ]
  },
  {
   "cell_type": "code",
   "execution_count": 4,
   "metadata": {},
   "outputs": [],
   "source": [
    "import re\n",
    "def clean(text):\n",
    "    return ' '.join(re.sub(\"(@[A-Za-z0-9]+)|([^0-9A-Za-z \\t])|(\\w+:\\/\\/\\S+)\",\" \",text).split()).lower()"
   ]
  },
  {
   "cell_type": "code",
   "execution_count": 5,
   "metadata": {},
   "outputs": [],
   "source": [
    "from sklearn.utils import shuffle\n",
    "\n",
    "df = shuffle(df)\n",
    "x_data = df['tweet']\n",
    "y_data = df['class']"
   ]
  },
  {
   "cell_type": "code",
   "execution_count": 6,
   "metadata": {},
   "outputs": [],
   "source": [
    "from sklearn.feature_extraction.text import TfidfVectorizer\n",
    "\n",
    "tv = TfidfVectorizer(max_features = 5000)\n",
    "x_data = list(x_data)\n",
    "x_data = tv.fit_transform(x_data).toarray()"
   ]
  },
  {
   "cell_type": "code",
   "execution_count": 17,
   "metadata": {},
   "outputs": [
    {
     "name": "stdout",
     "output_type": "stream",
     "text": [
      "5689     b'@justinbieber Merry Chrismas Justin &lt;3 lO...\n",
      "50081    b\"@MikeyDelap @SkySports @WhoScored I'm sure t...\n",
      "51461    b'Josh McNown woulda had 4 TDs by now and Ditk...\n",
      "16213    b'Handmade Emerald Green and Yellow Jade Frame...\n",
      "15204    b'58  RT to vote for our favorite show.\\n\\nCas...\n",
      "46377    b'What nice mates I have..phone me at the @Uni...\n",
      "16150    b'Just saw a girl wearing a bag that said \"Shu...\n",
      "12979    b'Mon, 16 Dec 2013, let us all send Joe Absolo...\n",
      "17183    b\"I'm at Starom\\xc4\\x9bstsk\\xc3\\xa9 n\\xc3\\xa1m...\n",
      "71773    @ehowe55: @DJZEE3 hope you made it back across...\n",
      "Name: tweet, dtype: object\n",
      "[[0. 0. 0. ... 0. 0. 0.]\n",
      " [0. 0. 0. ... 0. 0. 0.]\n",
      " [0. 0. 0. ... 0. 0. 0.]\n",
      " ...\n",
      " [0. 0. 0. ... 0. 0. 0.]\n",
      " [0. 0. 0. ... 0. 0. 0.]\n",
      " [0. 0. 0. ... 0. 0. 0.]]\n"
     ]
    }
   ],
   "source": [
    "print(df['tweet'][:10])\n",
    "print(x_data[:10])"
   ]
  },
  {
   "cell_type": "code",
   "execution_count": 22,
   "metadata": {},
   "outputs": [
    {
     "name": "stdout",
     "output_type": "stream",
     "text": [
      "b'ok time to start rolling the banners and some rough packing/preparing things =w='\n"
     ]
    },
    {
     "data": {
      "text/plain": [
       "[<matplotlib.lines.Line2D at 0x11980a0f0>]"
      ]
     },
     "execution_count": 22,
     "metadata": {},
     "output_type": "execute_result"
    },
    {
     "data": {
      "image/png": "[encoded data removed]",
      "text/plain": [
       "<Figure size 432x288 with 1 Axes>"
      ]
     },
     "metadata": {
      "needs_background": "light"
     },
     "output_type": "display_data"
    }
   ],
   "source": [
    "print(df['tweet'][0])\n",
    "plt.plot(x_data[0])"
   ]
  },
  {
   "cell_type": "code",
   "execution_count": 7,
   "metadata": {},
   "outputs": [
    {
     "name": "stdout",
     "output_type": "stream",
     "text": [
      "53758 53758\n"
     ]
    }
   ],
   "source": [
    "from sklearn.model_selection import train_test_split\n",
    "\n",
    "x_train, x_test, y_train, y_test = train_test_split(x_data,y_data,test_size=0.3,random_state=0)\n",
    "print(len(x_train), len(y_train))"
   ]
  },
  {
   "cell_type": "code",
   "execution_count": 8,
   "metadata": {
    "scrolled": true
   },
   "outputs": [
    {
     "name": "stdout",
     "output_type": "stream",
     "text": [
      "0.9998325830574054 0.9996961805555555\n"
     ]
    }
   ],
   "source": [
    "lsvc = LinearSVC()\n",
    "lsvc.fit(x_train,y_train)\n",
    "train_scores = lsvc.score(x_train, y_train)\n",
    "test_scores = lsvc.score(x_test, y_test)\n",
    "print(train_scores,test_scores)\n",
    "y_pred = lsvc.predict(x_test)"
   ]
  },
  {
   "cell_type": "code",
   "execution_count": 9,
   "metadata": {},
   "outputs": [
    {
     "name": "stdout",
     "output_type": "stream",
     "text": [
      "[1 0 0 0 1 0 0 1 0 0 0 1 0 1 0]\n",
      "[1 0 0 0 1 0 0 1 0 0 0 1 0 1 0]\n"
     ]
    }
   ],
   "source": [
    "print(np.array(y_test)[:15])\n",
    "print(y_pred[:15])"
   ]
  },
  {
   "cell_type": "code",
   "execution_count": 10,
   "metadata": {},
   "outputs": [
    {
     "name": "stdout",
     "output_type": "stream",
     "text": [
      "0.7685925815692548 0.7648003472222222\n"
     ]
    }
   ],
   "source": [
    "gnb = GaussianNB()\n",
    "gnb.fit(x_train,y_train)\n",
    "train_scores = gnb.score(x_train, y_train)\n",
    "test_scores = gnb.score(x_test, y_test)\n",
    "print(train_scores,test_scores)\n",
    "y_pred = gnb.predict(x_test)"
   ]
  },
  {
   "cell_type": "code",
   "execution_count": 11,
   "metadata": {},
   "outputs": [
    {
     "name": "stdout",
     "output_type": "stream",
     "text": [
      "[1 0 0 0 1 0 0 1 0 0 0 1 0 1 0]\n",
      "[1 0 1 1 1 0 1 1 1 0 1 0 0 1 0]\n"
     ]
    }
   ],
   "source": [
    "print(np.array(y_test)[:15])\n",
    "print(y_pred[:15])"
   ]
  },
  {
   "cell_type": "code",
   "execution_count": 12,
   "metadata": {},
   "outputs": [
    {
     "name": "stderr",
     "output_type": "stream",
     "text": [
      "/Library/Frameworks/Python.framework/Versions/3.6/lib/python3.6/site-packages/sklearn/linear_model/logistic.py:433: FutureWarning: Default solver will be changed to 'lbfgs' in 0.22. Specify a solver to silence this warning.\n",
      "  FutureWarning)\n"
     ]
    },
    {
     "name": "stdout",
     "output_type": "stream",
     "text": [
      "0.9993303322296216 0.9989583333333333\n"
     ]
    }
   ],
   "source": [
    "lr = LogisticRegression()\n",
    "lr.fit(x_train,y_train)\n",
    "train_scores = lr.score(x_train, y_train)\n",
    "test_scores = lr.score(x_test, y_test)\n",
    "print(train_scores,test_scores)\n",
    "y_pred = lr.predict(x_test)"
   ]
  },
  {
   "cell_type": "code",
   "execution_count": 13,
   "metadata": {},
   "outputs": [
    {
     "name": "stdout",
     "output_type": "stream",
     "text": [
      "[1 0 0 0 1 0 0 1 0 0 0 1 0 1 0]\n",
      "[1 0 0 0 1 0 0 1 0 0 0 1 0 1 0]\n"
     ]
    }
   ],
   "source": [
    "print(np.array(y_test)[:15])\n",
    "print(y_pred[:15])"
   ]
  },
  {
   "cell_type": "code",
   "execution_count": 14,
   "metadata": {},
   "outputs": [
    {
     "name": "stdout",
     "output_type": "stream",
     "text": [
      "0.999962796234979 0.9983506944444445\n"
     ]
    }
   ],
   "source": [
    "rfc = RandomForestClassifier(n_estimators = 10, random_state = 0)\n",
    "rfc.fit(x_train,y_train)\n",
    "train_scores = rfc.score(x_train, y_train)\n",
    "test_scores = rfc.score(x_test, y_test)\n",
    "print(train_scores,test_scores)\n",
    "y_pred = rfc.predict(x_test)"
   ]
  },
  {
   "cell_type": "code",
   "execution_count": 15,
   "metadata": {},
   "outputs": [
    {
     "name": "stdout",
     "output_type": "stream",
     "text": [
      "[1 0 0 0 1 0 0 1 0 0 0 1 0 1 0]\n",
      "[1 0 0 0 1 0 0 1 0 0 0 1 0 1 0]\n"
     ]
    }
   ],
   "source": [
    "print(np.array(y_test)[:15])\n",
    "print(y_pred[:15])"
   ]
  }
 ],
 "metadata": {
  "kernelspec": {
   "display_name": "Python 3",
   "language": "python",
   "name": "python3"
  },
  "language_info": {
   "codemirror_mode": {
    "name": "ipython",
    "version": 3
   },
   "file_extension": ".py",
   "mimetype": "text/x-python",
   "name": "python",
   "nbconvert_exporter": "python",
   "pygments_lexer": "ipython3",
   "version": "3.6.4"
  }
 },
 "nbformat": 4,
 "nbformat_minor": 2
}
